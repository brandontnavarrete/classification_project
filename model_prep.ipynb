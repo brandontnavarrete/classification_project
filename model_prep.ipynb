{
 "cells": [
  {
   "cell_type": "markdown",
   "id": "9d5108bd",
   "metadata": {},
   "source": [
    "# import"
   ]
  },
  {
   "cell_type": "code",
   "execution_count": 3,
   "id": "f5369205",
   "metadata": {},
   "outputs": [],
   "source": [
    "# import tools\n",
    "import sklearn.preprocessing\n",
    "from sklearn.tree import DecisionTreeClassifier\n",
    "from sklearn.ensemble import RandomForestClassifier\n",
    "from sklearn.neighbors import KNeighborsClassifier\n",
    "from sklearn.linear_model import LogisticRegression\n",
    "from sklearn.metrics import confusion_matrix\n",
    "from sklearn.metrics import classification_report\n",
    "\n",
    "import pandas as pd\n",
    "import numpy as np\n",
    "\n",
    "import acquire as a\n",
    "import prepare as pre \n"
   ]
  },
  {
   "cell_type": "code",
   "execution_count": 4,
   "id": "fc32040d",
   "metadata": {},
   "outputs": [],
   "source": [
    "df = a.get_telco_data(a.get_connection)\n"
   ]
  },
  {
   "cell_type": "code",
   "execution_count": 5,
   "id": "3d677192",
   "metadata": {},
   "outputs": [],
   "source": [
    "df=pre.prep_telco(df)"
   ]
  },
  {
   "cell_type": "code",
   "execution_count": 6,
   "id": "ec3c1e8f",
   "metadata": {},
   "outputs": [],
   "source": [
    "train,validate,test = a.split_data(df)"
   ]
  },
  {
   "cell_type": "code",
   "execution_count": 70,
   "id": "9523f8aa",
   "metadata": {},
   "outputs": [],
   "source": [
    "def model_prep_stmt(train,validate,test):\n",
    "\n",
    "    # keeping features columns\n",
    "    keep_cols = ['senior_citizen',\n",
    "                 'tenure',\n",
    "                 'monthly_charges',\n",
    "                 'tech_support_Yes',\n",
    "                 'churn_Yes',\n",
    "                 'customer_id']\n",
    "    \n",
    "    # making new data frames with only the features above\n",
    "    train = train[keep_cols]\n",
    "    validate = validate[keep_cols]\n",
    "    test = test[keep_cols]\n",
    "    \n",
    "    # Split data into predicting variables (X) and target variable (y) and reset the index for each dataframe\n",
    "    # creating x and y versions of train to remove the target variable\n",
    "    train_x = train.drop(columns=['churn_Yes','customer_id'])\n",
    "    train_y = train.churn_Yes\n",
    "\n",
    "    # creating x and y versions of train to remove the target variable\n",
    "    validate_x = validate.drop(columns=['churn_Yes','customer_id'])\n",
    "    validate_y = validate.churn_Yes\n",
    "\n",
    "   # creating x and y versions of train to remove the target variable\n",
    "    test_x = test.drop(columns=['churn_Yes','customer_id'])\n",
    "    test_y = test.churn_Yes\n",
    "    \n",
    "    return train_x, validate_x, test_x, train_y, validate_y, test_y\n",
    "    "
   ]
  },
  {
   "cell_type": "code",
   "execution_count": 38,
   "id": "126452ed",
   "metadata": {},
   "outputs": [],
   "source": [
    "train_x, validate_x, test_x, train_y, validate_y, test_y = model_prep_stmt(train,validate,test)"
   ]
  },
  {
   "cell_type": "code",
   "execution_count": 39,
   "id": "09f74335",
   "metadata": {},
   "outputs": [],
   "source": [
    "def get_tree(train_x,validate_x,train_y,validate_y,md):\n",
    "    \n",
    "    # create classifier object\n",
    "    clf = DecisionTreeClassifier(max_depth=md, random_state=42)\n",
    "    \n",
    "    #fit model on training data\n",
    "    clf = clf.fit(train_x, train_y)\n",
    "    \n",
    "    # print result\n",
    "    print(\" Decision Tree \")\n",
    "    print(f\"Accuracy of Decision Tree on train data is {clf.score(train_x, train_y)}\")\n",
    "    print(f\"Accuracy of Decision Tree on validate data is {clf.score(validate_x, validate_y)}\")\n"
   ]
  },
  {
   "cell_type": "code",
   "execution_count": 40,
   "id": "850bc65b",
   "metadata": {},
   "outputs": [
    {
     "name": "stdout",
     "output_type": "stream",
     "text": [
      " Decision Tree \n",
      "Accuracy of Decision Tree on train data is 0.7871475742951486\n",
      "Accuracy of Decision Tree on validate data is 0.7748815165876777\n"
     ]
    }
   ],
   "source": [
    "get_tree(train_x,validate_x,train_y,validate_y,3)"
   ]
  },
  {
   "cell_type": "code",
   "execution_count": 41,
   "id": "d8c47354",
   "metadata": {},
   "outputs": [],
   "source": [
    "def get_forest(train_x, validate_x, train_y, validate_y,md):\n",
    "    \n",
    "    '''get random forest accuracy on train and validate data'''\n",
    "\n",
    "    # create model object and fit it to training data\n",
    "    rf = RandomForestClassifier(max_depth=md, random_state=123)\n",
    "    rf.fit(train_x,train_y)\n",
    "\n",
    "    # print result\n",
    "    print('Random Forest')\n",
    "    print(f\"Accuracy of Random Forest on train is {rf.score(train_x, train_y)}\")\n",
    "    print(f\"Accuracy of Random Forest on validate is {rf.score(validate_x, validate_y)}\")"
   ]
  },
  {
   "cell_type": "code",
   "execution_count": 42,
   "id": "3da99203",
   "metadata": {},
   "outputs": [
    {
     "name": "stdout",
     "output_type": "stream",
     "text": [
      "Random Forest\n",
      "Accuracy of Random Forest on train is 0.7962915925831852\n",
      "Accuracy of Random Forest on validate is 0.7790284360189573\n"
     ]
    }
   ],
   "source": [
    "get_forest(train_x, validate_x, train_y, validate_y,3)"
   ]
  },
  {
   "cell_type": "code",
   "execution_count": 43,
   "id": "07ffc81b",
   "metadata": {},
   "outputs": [],
   "source": [
    "def get_reg(train_x, validate_x, train_y, validate_y):\n",
    "    \n",
    "    '''get logistic regression accuracy on train and validate data'''\n",
    "\n",
    "    # create model object and fit it to the training data\n",
    "    logit = LogisticRegression(solver='liblinear')\n",
    "    logit.fit(train_x, train_y)\n",
    "\n",
    "    # print result\n",
    "    print('Logistic Regression')\n",
    "    print(f\"Accuracy of Logistic Regression on train is {logit.score(train_x, train_y)}\")\n",
    "    print(f\"Accuracy of Logistic Regression on validate is {logit.score(validate_x, validate_y)}\")\n"
   ]
  },
  {
   "cell_type": "code",
   "execution_count": 44,
   "id": "ae43a40a",
   "metadata": {},
   "outputs": [
    {
     "name": "stdout",
     "output_type": "stream",
     "text": [
      "Logistic Regression\n",
      "Accuracy of Logistic Regression on train is 0.7955295910591821\n",
      "Accuracy of Logistic Regression on validate is 0.7808056872037915\n"
     ]
    }
   ],
   "source": [
    "get_reg(train_x, validate_x, train_y, validate_y)"
   ]
  },
  {
   "cell_type": "code",
   "execution_count": 45,
   "id": "ff432a25",
   "metadata": {},
   "outputs": [],
   "source": [
    "def get_knn(train_x, validate_x, train_y, validate_y):\n",
    "    \n",
    "    '''get KNN accuracy on train and validate data'''\n",
    "\n",
    "    # create model object and fit it to the training data\n",
    "    knn = KNeighborsClassifier(n_neighbors=3, weights='uniform')\n",
    "    knn.fit(train_x, train_y)\n",
    "\n",
    "    # print results\n",
    "    print('KNN')\n",
    "    print(f\"Accuracy of KNN on train is {knn.score(train_x, train_y)}\")\n",
    "    print(f\"Accuracy of KNN on validate is {knn.score(validate_x, validate_y)}\")\n"
   ]
  },
  {
   "cell_type": "code",
   "execution_count": 46,
   "id": "efc35cd2",
   "metadata": {},
   "outputs": [
    {
     "name": "stdout",
     "output_type": "stream",
     "text": [
      "KNN\n",
      "Accuracy of KNN on train is 0.858521717043434\n",
      "Accuracy of KNN on validate is 0.7588862559241706\n"
     ]
    },
    {
     "name": "stderr",
     "output_type": "stream",
     "text": [
      "/usr/local/anaconda3/lib/python3.9/site-packages/sklearn/neighbors/_classification.py:228: FutureWarning: Unlike other reduction functions (e.g. `skew`, `kurtosis`), the default behavior of `mode` typically preserves the axis it acts along. In SciPy 1.11.0, this behavior will change: the default value of `keepdims` will become False, the `axis` over which the statistic is taken will be eliminated, and the value None will no longer be accepted. Set `keepdims` to True or False to avoid this warning.\n",
      "  mode, _ = stats.mode(_y[neigh_ind, k], axis=1)\n",
      "/usr/local/anaconda3/lib/python3.9/site-packages/sklearn/neighbors/_classification.py:228: FutureWarning: Unlike other reduction functions (e.g. `skew`, `kurtosis`), the default behavior of `mode` typically preserves the axis it acts along. In SciPy 1.11.0, this behavior will change: the default value of `keepdims` will become False, the `axis` over which the statistic is taken will be eliminated, and the value None will no longer be accepted. Set `keepdims` to True or False to avoid this warning.\n",
      "  mode, _ = stats.mode(_y[neigh_ind, k], axis=1)\n"
     ]
    }
   ],
   "source": [
    "get_knn(train_x, validate_x, train_y, validate_y)"
   ]
  },
  {
   "cell_type": "code",
   "execution_count": 47,
   "id": "fb45e468",
   "metadata": {},
   "outputs": [],
   "source": [
    "###########################"
   ]
  },
  {
   "cell_type": "markdown",
   "id": "37254bcb",
   "metadata": {},
   "source": [
    "Model predictions"
   ]
  },
  {
   "cell_type": "code",
   "execution_count": 48,
   "id": "5a95d7f1",
   "metadata": {},
   "outputs": [
    {
     "name": "stdout",
     "output_type": "stream",
     "text": [
      " Random Forest\n",
      "Accuracy of Random Forest on train is 0.794259588519177\n",
      "Accuracy of Random Forest on validate is 0.7819905213270142\n",
      "Accuracy of Random Forest on test is 0.798862828713575\n"
     ]
    }
   ],
   "source": [
    "\n",
    "    # create model object and fit it to training data\n",
    "    rf = RandomForestClassifier(max_depth=3, random_state=42)\n",
    "    rf.fit(train_x,train_y)\n",
    "\n",
    "    # print result\n",
    "    print(' Random Forest')\n",
    "    print(f\"Accuracy of Random Forest on train is {rf.score(train_x, train_y)}\")\n",
    "    print(f\"Accuracy of Random Forest on validate is {rf.score(validate_x, validate_y)}\")\n",
    "    print(f\"Accuracy of Random Forest on test is {rf.score(test_x, test_y)}\")"
   ]
  },
  {
   "cell_type": "code",
   "execution_count": 49,
   "id": "e54f865b",
   "metadata": {},
   "outputs": [
    {
     "name": "stdout",
     "output_type": "stream",
     "text": [
      "[0.06504675 0.57609185 0.29624114 0.06262026]\n"
     ]
    }
   ],
   "source": [
    "\n",
    "print(rf.feature_importances_)"
   ]
  },
  {
   "cell_type": "code",
   "execution_count": 50,
   "id": "063bf253",
   "metadata": {},
   "outputs": [
    {
     "data": {
      "text/plain": [
       "array([0, 1, 0, ..., 0, 0, 0], dtype=uint8)"
      ]
     },
     "execution_count": 50,
     "metadata": {},
     "output_type": "execute_result"
    }
   ],
   "source": [
    "y_pred = rf.predict(test_x)\n",
    "y_pred"
   ]
  },
  {
   "cell_type": "code",
   "execution_count": 51,
   "id": "02e5641e",
   "metadata": {},
   "outputs": [
    {
     "data": {
      "text/plain": [
       "array([[0.82058029, 0.17941971],\n",
       "       [0.47105272, 0.52894728],\n",
       "       [0.94389971, 0.05610029],\n",
       "       ...,\n",
       "       [0.59711349, 0.40288651],\n",
       "       [0.94010375, 0.05989625],\n",
       "       [0.78786792, 0.21213208]])"
      ]
     },
     "execution_count": 51,
     "metadata": {},
     "output_type": "execute_result"
    }
   ],
   "source": [
    "y_pred_proba = rf.predict_proba(test_x)\n",
    "y_pred_proba"
   ]
  },
  {
   "cell_type": "code",
   "execution_count": 52,
   "id": "ef0cc766",
   "metadata": {},
   "outputs": [
    {
     "name": "stdout",
     "output_type": "stream",
     "text": [
      "[[974  59]\n",
      " [224 150]]\n"
     ]
    }
   ],
   "source": [
    "print(confusion_matrix(test_y, y_pred))"
   ]
  },
  {
   "cell_type": "code",
   "execution_count": null,
   "id": "79812005",
   "metadata": {},
   "outputs": [],
   "source": []
  },
  {
   "cell_type": "markdown",
   "id": "4b910513",
   "metadata": {},
   "source": [
    "# validate on out of sample"
   ]
  },
  {
   "cell_type": "code",
   "execution_count": 65,
   "id": "1ad72093",
   "metadata": {},
   "outputs": [],
   "source": [
    "prob_pred = pd.DataFrame(y_pred_proba,y_pred)"
   ]
  },
  {
   "cell_type": "code",
   "execution_count": 66,
   "id": "8cb65d8b",
   "metadata": {},
   "outputs": [],
   "source": [
    "prob_pred.rename(columns={0: 'Probability', 1: 'Predictions'}, inplace=True)"
   ]
  },
  {
   "cell_type": "code",
   "execution_count": 63,
   "id": "49c1a2b7",
   "metadata": {},
   "outputs": [],
   "source": [
    "prob_pred = prob_pred.reset_index(drop=True)"
   ]
  },
  {
   "cell_type": "code",
   "execution_count": 67,
   "id": "5a1193f8",
   "metadata": {},
   "outputs": [
    {
     "data": {
      "text/html": [
       "<div>\n",
       "<style scoped>\n",
       "    .dataframe tbody tr th:only-of-type {\n",
       "        vertical-align: middle;\n",
       "    }\n",
       "\n",
       "    .dataframe tbody tr th {\n",
       "        vertical-align: top;\n",
       "    }\n",
       "\n",
       "    .dataframe thead th {\n",
       "        text-align: right;\n",
       "    }\n",
       "</style>\n",
       "<table border=\"1\" class=\"dataframe\">\n",
       "  <thead>\n",
       "    <tr style=\"text-align: right;\">\n",
       "      <th></th>\n",
       "      <th>Probability</th>\n",
       "      <th>Predictions</th>\n",
       "    </tr>\n",
       "  </thead>\n",
       "  <tbody>\n",
       "    <tr>\n",
       "      <th>0</th>\n",
       "      <td>0.820580</td>\n",
       "      <td>0.179420</td>\n",
       "    </tr>\n",
       "    <tr>\n",
       "      <th>1</th>\n",
       "      <td>0.471053</td>\n",
       "      <td>0.528947</td>\n",
       "    </tr>\n",
       "    <tr>\n",
       "      <th>0</th>\n",
       "      <td>0.943900</td>\n",
       "      <td>0.056100</td>\n",
       "    </tr>\n",
       "    <tr>\n",
       "      <th>0</th>\n",
       "      <td>0.734836</td>\n",
       "      <td>0.265164</td>\n",
       "    </tr>\n",
       "    <tr>\n",
       "      <th>0</th>\n",
       "      <td>0.706496</td>\n",
       "      <td>0.293504</td>\n",
       "    </tr>\n",
       "    <tr>\n",
       "      <th>...</th>\n",
       "      <td>...</td>\n",
       "      <td>...</td>\n",
       "    </tr>\n",
       "    <tr>\n",
       "      <th>0</th>\n",
       "      <td>0.831784</td>\n",
       "      <td>0.168216</td>\n",
       "    </tr>\n",
       "    <tr>\n",
       "      <th>0</th>\n",
       "      <td>0.788553</td>\n",
       "      <td>0.211447</td>\n",
       "    </tr>\n",
       "    <tr>\n",
       "      <th>0</th>\n",
       "      <td>0.597113</td>\n",
       "      <td>0.402887</td>\n",
       "    </tr>\n",
       "    <tr>\n",
       "      <th>0</th>\n",
       "      <td>0.940104</td>\n",
       "      <td>0.059896</td>\n",
       "    </tr>\n",
       "    <tr>\n",
       "      <th>0</th>\n",
       "      <td>0.787868</td>\n",
       "      <td>0.212132</td>\n",
       "    </tr>\n",
       "  </tbody>\n",
       "</table>\n",
       "<p>1407 rows × 2 columns</p>\n",
       "</div>"
      ],
      "text/plain": [
       "    Probability  Predictions\n",
       "0      0.820580     0.179420\n",
       "1      0.471053     0.528947\n",
       "0      0.943900     0.056100\n",
       "0      0.734836     0.265164\n",
       "0      0.706496     0.293504\n",
       "..          ...          ...\n",
       "0      0.831784     0.168216\n",
       "0      0.788553     0.211447\n",
       "0      0.597113     0.402887\n",
       "0      0.940104     0.059896\n",
       "0      0.787868     0.212132\n",
       "\n",
       "[1407 rows x 2 columns]"
      ]
     },
     "execution_count": 67,
     "metadata": {},
     "output_type": "execute_result"
    }
   ],
   "source": [
    "prob_pred"
   ]
  },
  {
   "cell_type": "code",
   "execution_count": 33,
   "id": "fa496989",
   "metadata": {},
   "outputs": [],
   "source": [
    "def get_best_model(train_x, validate_x, train_y, validate_y,md,test_x):\n",
    "    '''get random forest accuracy on train and validate data'''\n",
    "\n",
    "    # create model object and fit it to training data\n",
    "    rf = RandomForestClassifier(max_depth=md, random_state=42)\n",
    "    rf.fit(train_x,train_y)\n",
    "    \n",
    "    print(\"feature importance\")\n",
    "    print('\\n')\n",
    "    print(rf.feature_importances_)\n",
    "    \n",
    "    y_pred = rf.predict(test_x)\n",
    "    \n",
    "    y_pred_proba = rf.predict_proba(test_x)\n",
    "    \n",
    "    prob_pred = pd.DataFrame(y_pred_proba,y_pred)\n",
    "    prob_pred.rename(columns={0: 'Probability', 1: 'Predictions'}, inplace=True)\n",
    "\n",
    "    prob_pred = prob_pred.reset_index(drop=True)\n",
    "    \n",
    "\n",
    "    return prob_pred\n",
    "    \n",
    "\n",
    "\n"
   ]
  },
  {
   "cell_type": "code",
   "execution_count": 35,
   "id": "155ed726",
   "metadata": {},
   "outputs": [
    {
     "name": "stdout",
     "output_type": "stream",
     "text": [
      "feature importance\n",
      "\n",
      "\n",
      "[0.05970289 0.53675137 0.33394075 0.06960499]\n"
     ]
    }
   ],
   "source": [
    "prob_pred1 = get_best_model(train_x, validate_x, train_y, validate_y,5,test_x)"
   ]
  },
  {
   "cell_type": "code",
   "execution_count": 57,
   "id": "fd2f744e",
   "metadata": {},
   "outputs": [
    {
     "data": {
      "text/html": [
       "<div>\n",
       "<style scoped>\n",
       "    .dataframe tbody tr th:only-of-type {\n",
       "        vertical-align: middle;\n",
       "    }\n",
       "\n",
       "    .dataframe tbody tr th {\n",
       "        vertical-align: top;\n",
       "    }\n",
       "\n",
       "    .dataframe thead th {\n",
       "        text-align: right;\n",
       "    }\n",
       "</style>\n",
       "<table border=\"1\" class=\"dataframe\">\n",
       "  <thead>\n",
       "    <tr style=\"text-align: right;\">\n",
       "      <th></th>\n",
       "      <th>Probability</th>\n",
       "      <th>Predictions</th>\n",
       "    </tr>\n",
       "  </thead>\n",
       "  <tbody>\n",
       "    <tr>\n",
       "      <th>0</th>\n",
       "      <td>0.893859</td>\n",
       "      <td>0.106141</td>\n",
       "    </tr>\n",
       "    <tr>\n",
       "      <th>1</th>\n",
       "      <td>0.486144</td>\n",
       "      <td>0.513856</td>\n",
       "    </tr>\n",
       "    <tr>\n",
       "      <th>2</th>\n",
       "      <td>0.979888</td>\n",
       "      <td>0.020112</td>\n",
       "    </tr>\n",
       "    <tr>\n",
       "      <th>3</th>\n",
       "      <td>0.738104</td>\n",
       "      <td>0.261896</td>\n",
       "    </tr>\n",
       "    <tr>\n",
       "      <th>4</th>\n",
       "      <td>0.730895</td>\n",
       "      <td>0.269105</td>\n",
       "    </tr>\n",
       "    <tr>\n",
       "      <th>...</th>\n",
       "      <td>...</td>\n",
       "      <td>...</td>\n",
       "    </tr>\n",
       "    <tr>\n",
       "      <th>1402</th>\n",
       "      <td>0.882581</td>\n",
       "      <td>0.117419</td>\n",
       "    </tr>\n",
       "    <tr>\n",
       "      <th>1403</th>\n",
       "      <td>0.802014</td>\n",
       "      <td>0.197986</td>\n",
       "    </tr>\n",
       "    <tr>\n",
       "      <th>1404</th>\n",
       "      <td>0.523183</td>\n",
       "      <td>0.476817</td>\n",
       "    </tr>\n",
       "    <tr>\n",
       "      <th>1405</th>\n",
       "      <td>0.976927</td>\n",
       "      <td>0.023073</td>\n",
       "    </tr>\n",
       "    <tr>\n",
       "      <th>1406</th>\n",
       "      <td>0.769359</td>\n",
       "      <td>0.230641</td>\n",
       "    </tr>\n",
       "  </tbody>\n",
       "</table>\n",
       "<p>1407 rows × 2 columns</p>\n",
       "</div>"
      ],
      "text/plain": [
       "      Probability  Predictions\n",
       "0        0.893859     0.106141\n",
       "1        0.486144     0.513856\n",
       "2        0.979888     0.020112\n",
       "3        0.738104     0.261896\n",
       "4        0.730895     0.269105\n",
       "...           ...          ...\n",
       "1402     0.882581     0.117419\n",
       "1403     0.802014     0.197986\n",
       "1404     0.523183     0.476817\n",
       "1405     0.976927     0.023073\n",
       "1406     0.769359     0.230641\n",
       "\n",
       "[1407 rows x 2 columns]"
      ]
     },
     "execution_count": 57,
     "metadata": {},
     "output_type": "execute_result"
    }
   ],
   "source": [
    "prob_pred1"
   ]
  },
  {
   "cell_type": "code",
   "execution_count": null,
   "id": "e3c26a78",
   "metadata": {},
   "outputs": [],
   "source": []
  },
  {
   "cell_type": "code",
   "execution_count": null,
   "id": "c57f841d",
   "metadata": {},
   "outputs": [],
   "source": []
  }
 ],
 "metadata": {
  "kernelspec": {
   "display_name": "Python 3 (ipykernel)",
   "language": "python",
   "name": "python3"
  },
  "language_info": {
   "codemirror_mode": {
    "name": "ipython",
    "version": 3
   },
   "file_extension": ".py",
   "mimetype": "text/x-python",
   "name": "python",
   "nbconvert_exporter": "python",
   "pygments_lexer": "ipython3",
   "version": "3.9.13"
  },
  "toc": {
   "base_numbering": 1,
   "nav_menu": {},
   "number_sections": true,
   "sideBar": true,
   "skip_h1_title": false,
   "title_cell": "Table of Contents",
   "title_sidebar": "Contents",
   "toc_cell": false,
   "toc_position": {},
   "toc_section_display": true,
   "toc_window_display": false
  }
 },
 "nbformat": 4,
 "nbformat_minor": 5
}
