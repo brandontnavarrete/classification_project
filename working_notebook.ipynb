{
 "cells": [
  {
   "cell_type": "markdown",
   "id": "a91fe57b",
   "metadata": {},
   "source": [
    "# Customer Churn"
   ]
  },
  {
   "cell_type": "markdown",
   "id": "5c372245",
   "metadata": {},
   "source": [
    "# Goal:"
   ]
  },
  {
   "cell_type": "markdown",
   "id": "5af9100e",
   "metadata": {},
   "source": [
    "* Isolate the key drivers for cusomer churn at Telco"
   ]
  },
  {
   "cell_type": "code",
   "execution_count": null,
   "id": "9a3e7f40",
   "metadata": {},
   "outputs": [],
   "source": []
  },
  {
   "cell_type": "markdown",
   "id": "aa769a42",
   "metadata": {},
   "source": [
    "* Use the key driver to develope a M.L model to accurately predict customer churn\n",
    "* Create a report that is easy to interpret, follow, and repeat.\n",
    "* Isolate the key drivers for cusomer churn at Telco"
   ]
  },
  {
   "cell_type": "code",
   "execution_count": null,
   "id": "8cde09ce",
   "metadata": {},
   "outputs": [],
   "source": []
  },
  {
   "cell_type": "markdown",
   "id": "384c2b66",
   "metadata": {},
   "source": [
    "* Create a report that is easy to interpret, follow, and repeat."
   ]
  },
  {
   "cell_type": "markdown",
   "id": "e77a3ddd",
   "metadata": {},
   "source": [
    "# imports"
   ]
  },
  {
   "cell_type": "code",
   "execution_count": null,
   "id": "bd5e53ca",
   "metadata": {},
   "outputs": [],
   "source": [
    "# imports used in your project go here "
   ]
  },
  {
   "cell_type": "code",
   "execution_count": null,
   "id": "5deb6f22",
   "metadata": {},
   "outputs": [],
   "source": []
  },
  {
   "cell_type": "code",
   "execution_count": 4,
   "id": "5e4b7f75",
   "metadata": {},
   "outputs": [],
   "source": [
    "import pandas as pd \n",
    "import numpy as np \n",
    "\n",
    "import matplotlib.pyplot as plt \n",
    "import seaborn as sns\n",
    "import os\n",
    "\n",
    "from sklearn.model_selection import train_test_split\n",
    "import sklearn.preprocessing\n",
    "from sklearn.tree import DecisionTreeClassifier\n",
    "from sklearn.ensemble import RandomForestClassifier\n",
    "from sklearn.neighbors import KNeighborsClassifier\n",
    "from sklearn.linear_model import LogisticRegression\n",
    "\n",
    "import warnings\n",
    "warnings.filterwarnings(\"ignore\")\n",
    "\n",
    "from scipy import stats\n",
    "import re\n",
    "\n",
    "import acquire as acq\n",
    "import explore as exp\n",
    "import prepare as p\n",
    "import model as m\n",
    "\n",
    "from pathlib import Path  \n"
   ]
  },
  {
   "cell_type": "markdown",
   "id": "ff6bd823",
   "metadata": {},
   "source": [
    "# Acquire"
   ]
  },
  {
   "cell_type": "markdown",
   "id": "ffd61003",
   "metadata": {},
   "source": [
    "* The data was pulled fromt the Sequel Ace database, through an acquire file function."
   ]
  },
  {
   "cell_type": "markdown",
   "id": "8e49a3b9",
   "metadata": {},
   "source": [
    "* Data was acquire in December and was prepped and cleaned."
   ]
  },
  {
   "cell_type": "markdown",
   "id": "94cb8865",
   "metadata": {},
   "source": [
    "* Dataframe is built of 31 columns and 7010 rows after being scrubbed. ( 7032, 20 before scrub and cleaning)"
   ]
  },
  {
   "cell_type": "markdown",
   "id": "30f613c4",
   "metadata": {},
   "source": [
    "* Each observation is a current or past customer of the company Telco"
   ]
  },
  {
   "cell_type": "markdown",
   "id": "6c6bb5d1",
   "metadata": {},
   "source": [
    "* Each column is a feature that will correspond to the customer. Read the ReadMe file in github for descriptions."
   ]
  },
  {
   "cell_type": "code",
   "execution_count": 5,
   "id": "0375d550",
   "metadata": {
    "scrolled": true
   },
   "outputs": [],
   "source": [
    "# acquire and cleaning\n",
    "df = acq.get_telco_data(acq.get_connection)\n"
   ]
  },
  {
   "cell_type": "markdown",
   "id": "0402fe39",
   "metadata": {},
   "source": [
    "# Prepare"
   ]
  },
  {
   "cell_type": "markdown",
   "id": "e2f48fa1",
   "metadata": {},
   "source": [
    "* Duplicate and null Columns were dropped\n",
    "* Whitespace were stripped\n",
    "* Data Types were changed \n",
    "* Whitespace were stripped\n",
    "* Data Types were changed \n",
    "* Dummy Variables were created for modeling\n",
    "* Redundant columns were dropped for a clean data frame"
   ]
  },
  {
   "cell_type": "code",
   "execution_count": 6,
   "id": "d21818ec",
   "metadata": {},
   "outputs": [],
   "source": [
    "# dropping duplicates, nulls, creating dummies, dropping redundant columns\n",
    "df = p.prep_telco(df)"
   ]
  },
  {
   "cell_type": "code",
   "execution_count": 7,
   "id": "890cbd17",
   "metadata": {},
   "outputs": [],
   "source": [
    "# splitting data into train, validate, and test data frames\n",
    "train, validate, test = acq.split_data(df)"
   ]
  },
  {
   "cell_type": "code",
   "execution_count": 8,
   "id": "6b49d99d",
   "metadata": {},
   "outputs": [
    {
     "data": {
      "text/plain": [
       "((3937, 32), (1688, 32), (1407, 32))"
      ]
     },
     "execution_count": 8,
     "metadata": {},
     "output_type": "execute_result"
    }
   ],
   "source": [
    "# confirming new data frame sizes\n",
    "train.shape, validate.shape, test.shape"
   ]
  },
  {
   "cell_type": "markdown",
   "id": "29a648f6",
   "metadata": {},
   "source": [
    "# Explore"
   ]
  },
  {
   "cell_type": "markdown",
   "id": "6abe829f",
   "metadata": {},
   "source": [
    "##  How often do customers churn?"
   ]
  },
  {
   "cell_type": "code",
   "execution_count": null,
   "id": "5caec01f",
   "metadata": {},
   "outputs": [],
   "source": [
    "# get churn rates\n",
    "exp.get_churn_rate(train)"
   ]
  },
  {
   "cell_type": "markdown",
   "id": "3ea77512",
   "metadata": {},
   "source": [
    "* We are focusing on the 26% of customers who are choosing to leave us. Who are they and why are they leaving"
   ]
  },
  {
   "cell_type": "markdown",
   "id": "840cc0c5",
   "metadata": {},
   "source": [
    "## Initial Questions"
   ]
  },
  {
   "cell_type": "markdown",
   "id": "ab68e28e",
   "metadata": {},
   "source": [
    "### Do people who use tech support churn more often?"
   ]
  },
  {
   "cell_type": "code",
   "execution_count": null,
   "id": "0d8f4f71",
   "metadata": {},
   "outputs": [],
   "source": [
    "# get churn rate compared to tech support usage\n",
    "exp.get_tech_churn(train)"
   ]
  },
  {
   "cell_type": "markdown",
   "id": "ab874821",
   "metadata": {},
   "source": [
    "* Churn rating is 16% lower in cases where the customer used tech support."
   ]
  },
  {
   "cell_type": "markdown",
   "id": "7cd9a64e",
   "metadata": {},
   "source": [
    "#### Chi-square test is need to investigate relevance / correlation between churn rate and tech support"
   ]
  },
  {
   "cell_type": "markdown",
   "id": "ac5bbfe8",
   "metadata": {},
   "source": [
    "* confidence level of 95%\n",
    "* alpha set to .05"
   ]
  },
  {
   "cell_type": "code",
   "execution_count": null,
   "id": "16daab72",
   "metadata": {},
   "outputs": [],
   "source": [
    "# Ho: Churn rate and Tech Support usage are independent of one another.\n",
    "# Ha: Churn rate and Tech Support usage are related."
   ]
  },
  {
   "cell_type": "code",
   "execution_count": null,
   "id": "44ce4b89",
   "metadata": {},
   "outputs": [],
   "source": [
    "exp.get_chi_tech(train)"
   ]
  },
  {
   "cell_type": "markdown",
   "id": "c94d28ad",
   "metadata": {},
   "source": [
    "* The p-value is greater than the alpha. This is some evidence to support that the two have some relationship.\n",
    "* The difference in observed vs expected leads me to believe this will be a good feature for a model's accuracy"
   ]
  },
  {
   "cell_type": "markdown",
   "id": "54885b7c",
   "metadata": {},
   "source": [
    "### Do people who pay more PER month churn more often?"
   ]
  },
  {
   "cell_type": "code",
   "execution_count": null,
   "id": "03ebb960",
   "metadata": {},
   "outputs": [],
   "source": [
    "# get pie chart churn rate compared to monthly payment\n",
    "exp.get_month_churn(train)"
   ]
  },
  {
   "cell_type": "markdown",
   "id": "1cea0113",
   "metadata": {},
   "source": [
    "* Customers who paid more than the average monthly payment churned 18% more."
   ]
  },
  {
   "cell_type": "markdown",
   "id": "e6d3dc3e",
   "metadata": {},
   "source": [
    "#### A T-test will help determine a significant difference between the mean off those who paid above the average amount compared to those who paid less."
   ]
  },
  {
   "cell_type": "markdown",
   "id": "51bab6df",
   "metadata": {},
   "source": [
    "* confidence interval of 95%\n",
    "* alpha is .05"
   ]
  },
  {
   "cell_type": "code",
   "execution_count": null,
   "id": "ac3c8fb3",
   "metadata": {},
   "outputs": [],
   "source": [
    "# Ho: The mean difference in churn rating of customers who paid more than average is not significantly different from the mean of those who paid the average amount or less.\n",
    "# Ha: The mean difference in churn rating of customers who paid more than average is significantly different from the mean of those who paid the average amount or less."
   ]
  },
  {
   "cell_type": "code",
   "execution_count": null,
   "id": "f884d718",
   "metadata": {},
   "outputs": [],
   "source": [
    "exp.get_t_monthly(train)"
   ]
  },
  {
   "cell_type": "markdown",
   "id": "fb45851b",
   "metadata": {},
   "source": [
    "* Rejecting the null hypothesis, we find that there is a significant difference in the two groups means. Based on this, it might be benificial to use \"Monthly Charges\" during modeling."
   ]
  },
  {
   "cell_type": "markdown",
   "id": "f6b71a0b",
   "metadata": {},
   "source": [
    "### Do senior citizens churn more than non-senior citizens?"
   ]
  },
  {
   "cell_type": "code",
   "execution_count": null,
   "id": "9d37fdfc",
   "metadata": {},
   "outputs": [],
   "source": [
    "# get pie chart churn rate compared to senior citizen status\n",
    "exp.get_senior_churn(train)\n"
   ]
  },
  {
   "cell_type": "markdown",
   "id": "7c3b2279",
   "metadata": {},
   "source": [
    "* Senior customers, even though they make up less of the population, churn 18% more than younger customer."
   ]
  },
  {
   "cell_type": "markdown",
   "id": "5194637e",
   "metadata": {},
   "source": [
    "#### A T-test will help determine a significant difference between the average churn rate of senior customers compared to cusomters who are younger.\n"
   ]
  },
  {
   "cell_type": "markdown",
   "id": "44cf7dbc",
   "metadata": {},
   "source": [
    "* confidence innterval of 95%\n",
    "* alpha is 0.5"
   ]
  },
  {
   "cell_type": "code",
   "execution_count": null,
   "id": "c6cf41c8",
   "metadata": {},
   "outputs": [],
   "source": [
    "# Ho: The average churn rate difference in senior customers is not significantly different to customers who are younger.\n",
    "# Ha: The average churn rate difference in senior customers is significantly different to customers who are younger."
   ]
  },
  {
   "cell_type": "code",
   "execution_count": null,
   "id": "64b6b04d",
   "metadata": {},
   "outputs": [],
   "source": [
    "exp.get_t_senior(train)"
   ]
  },
  {
   "cell_type": "markdown",
   "id": "ab2c1777",
   "metadata": {},
   "source": [
    "* Rejecting the null hypothesis, we find that there is a significant difference in the two groups means. Based on this, it might be benificial to use \"Senior Citizen\" during modeling."
   ]
  },
  {
   "cell_type": "markdown",
   "id": "fc5a18bd",
   "metadata": {},
   "source": [
    "### Do customers with longer tenure churn more than customers with shorter tenure?"
   ]
  },
  {
   "cell_type": "code",
   "execution_count": null,
   "id": "00e91620",
   "metadata": {},
   "outputs": [],
   "source": [
    "exp.get_tenure_rate(train)"
   ]
  },
  {
   "cell_type": "markdown",
   "id": "d264be82",
   "metadata": {},
   "source": [
    "* Customers who have a longer tenure churned 26% less than customers who have had an average tenure or shorter"
   ]
  },
  {
   "cell_type": "markdown",
   "id": "b7d2b62d",
   "metadata": {},
   "source": [
    "#### A T-test will help determine a significant difference between the average churn rate of long tenure customers compared to cusomters who have a shorter tenure."
   ]
  },
  {
   "cell_type": "markdown",
   "id": "45840b3f",
   "metadata": {},
   "source": [
    "* confidence interval of 95%\n",
    "* alpha is .05"
   ]
  },
  {
   "cell_type": "code",
   "execution_count": null,
   "id": "1232b8cb",
   "metadata": {},
   "outputs": [],
   "source": [
    "# Ho: The average churn rate difference in longer tenure customers is not significantly different to customers who have a shorter tenure.\n",
    "# Ho: The average churn rate difference in longer tenure customers is significantly different to customers who have a shorter tenure."
   ]
  },
  {
   "cell_type": "code",
   "execution_count": null,
   "id": "66fc71d0",
   "metadata": {},
   "outputs": [],
   "source": [
    "exp.get_t_tenure(train)"
   ]
  },
  {
   "cell_type": "markdown",
   "id": "63302bb8",
   "metadata": {},
   "source": [
    "* Rejecting the null hypothesis, we find that there is a significant difference in the two groups means. Based on this, it might be benificial to use \"Tenure\" during modeling."
   ]
  },
  {
   "cell_type": "markdown",
   "id": "647efcea",
   "metadata": {},
   "source": [
    "# Exploration Summary"
   ]
  },
  {
   "cell_type": "markdown",
   "id": "ac5986af",
   "metadata": {},
   "source": [
    "* Not using \"Tech Support\" seems to influence a churn rate.\n",
    "* Higher \"Monthly Charges\" seemed to be a driver in churn rate. \n",
    "* \"Senior Citizens\" group seemed to be a driver higher of churn rate\n",
    "* Shorter \" Tenure\" seemed to be a driver of higher churn rate"
   ]
  },
  {
   "cell_type": "markdown",
   "id": "3cc21d90",
   "metadata": {},
   "source": [
    "# I believe there could be othere causes of churn but for the moment, these current features will be suffice for classification modeling"
   ]
  },
  {
   "cell_type": "markdown",
   "id": "ff008b6e",
   "metadata": {},
   "source": [
    "# Modeling\n"
   ]
  },
  {
   "cell_type": "markdown",
   "id": "c0854d48",
   "metadata": {},
   "source": [
    "* Accuracy will be the main evaluation metric\n",
    "* Churn makes up 26% of train data"
   ]
  },
  {
   "cell_type": "markdown",
   "id": "0ef54cf1",
   "metadata": {},
   "source": [
    "* Baseline model prediction will be \"Non-Churn\" or 74% and the objective is to create a model that will out perfrom this.\n"
   ]
  },
  {
   "cell_type": "code",
   "execution_count": 12,
   "id": "0b499a93",
   "metadata": {},
   "outputs": [],
   "source": [
    "# prep data for modeling\n",
    "train_x, validate_x, test_x, train_y, validate_y, test_y = m.model_prep_stmt(train,validate,test)"
   ]
  },
  {
   "cell_type": "markdown",
   "id": "30a2ffad",
   "metadata": {},
   "source": [
    "## Decision Tree\n"
   ]
  },
  {
   "cell_type": "markdown",
   "id": "ea100e7c",
   "metadata": {},
   "source": [
    "### Decision Tree max depth 3"
   ]
  },
  {
   "cell_type": "code",
   "execution_count": 13,
   "id": "5c47d365",
   "metadata": {},
   "outputs": [
    {
     "name": "stdout",
     "output_type": "stream",
     "text": [
      "Decision Tree\n",
      "Accuracy of Decision Tree on train data is 0.7871475742951486\n",
      "Accuracy of Decision Tree on validate data is 0.7748815165876777\n"
     ]
    }
   ],
   "source": [
    "m.get_tree(train_x,validate_x,train_y,validate_y,3)"
   ]
  },
  {
   "cell_type": "markdown",
   "id": "f691c557",
   "metadata": {},
   "source": [
    "* Decision Tree accuracy is out performing baseline\n",
    "* Overfitting does not seem to be an issue here"
   ]
  },
  {
   "cell_type": "markdown",
   "id": "da15a60e",
   "metadata": {},
   "source": [
    "### Decision Tree max depth 5"
   ]
  },
  {
   "cell_type": "code",
   "execution_count": null,
   "id": "1e7789b6",
   "metadata": {},
   "outputs": [],
   "source": [
    "m.get_tree(train_x,validate_x,train_y,validate_y,5)"
   ]
  },
  {
   "cell_type": "markdown",
   "id": "44717f88",
   "metadata": {},
   "source": [
    "* Decision Tree accuracy is out performing baseline\n",
    "* Overfitting may be an issue here"
   ]
  },
  {
   "cell_type": "markdown",
   "id": "01d0c3c5",
   "metadata": {},
   "source": [
    "## Random Forest"
   ]
  },
  {
   "cell_type": "markdown",
   "id": "491706a4",
   "metadata": {},
   "source": [
    "### Random Forest max depth 3"
   ]
  },
  {
   "cell_type": "code",
   "execution_count": null,
   "id": "793103d3",
   "metadata": {},
   "outputs": [],
   "source": [
    "# get random forest results\n",
    "m.get_forest(train_x, validate_x, train_y, validate_y,3)"
   ]
  },
  {
   "cell_type": "markdown",
   "id": "64f23c32",
   "metadata": {},
   "source": [
    "* Random Forest accuracy is out performing baseline\n",
    "* Overfitting does not seem to be an issue here"
   ]
  },
  {
   "cell_type": "markdown",
   "id": "0c459d1f",
   "metadata": {},
   "source": [
    "### Random Forest max depth 5"
   ]
  },
  {
   "cell_type": "code",
   "execution_count": null,
   "id": "4c599792",
   "metadata": {},
   "outputs": [],
   "source": [
    "# get random forest results\n",
    "m.get_forest(train_x, validate_x, train_y, validate_y,5)"
   ]
  },
  {
   "cell_type": "markdown",
   "id": "5d2be3c9",
   "metadata": {},
   "source": [
    "* Random Forest accuracy is out performing baseline\n",
    "* Overfitting does not seem to be an issue here"
   ]
  },
  {
   "cell_type": "markdown",
   "id": "90fc1ff5",
   "metadata": {},
   "source": [
    "## Logistic Regression"
   ]
  },
  {
   "cell_type": "code",
   "execution_count": null,
   "id": "b07f713d",
   "metadata": {},
   "outputs": [],
   "source": [
    "# get logistic regression results\n",
    "m.get_reg(train_x, validate_x, train_y, validate_y)"
   ]
  },
  {
   "cell_type": "markdown",
   "id": "7f49dc77",
   "metadata": {},
   "source": [
    "* Logistic Regression accuracy is out performing baseline\n",
    "* Overfitting does not seem to be an issue here"
   ]
  },
  {
   "cell_type": "markdown",
   "id": "4ee107b8",
   "metadata": {},
   "source": [
    "## KNN"
   ]
  },
  {
   "cell_type": "markdown",
   "id": "73a000fc",
   "metadata": {},
   "source": [
    "### KNN K nearest neighbor 3"
   ]
  },
  {
   "cell_type": "code",
   "execution_count": null,
   "id": "1b04824a",
   "metadata": {},
   "outputs": [],
   "source": [
    "# get KNN results\n",
    "m.get_knn(train_x, validate_x, train_y, validate_y,3)"
   ]
  },
  {
   "cell_type": "markdown",
   "id": "b550e04d",
   "metadata": {},
   "source": [
    "* Logistic Regression accuracy is out performing baseline\n",
    "* Overfitting seems to be an issue here"
   ]
  },
  {
   "cell_type": "markdown",
   "id": "face23c2",
   "metadata": {},
   "source": [
    "### KNN K nearest neighbor 5"
   ]
  },
  {
   "cell_type": "code",
   "execution_count": 14,
   "id": "38c5e05c",
   "metadata": {},
   "outputs": [
    {
     "name": "stdout",
     "output_type": "stream",
     "text": [
      "KNN\n",
      "Accuracy of KNN on train is 0.8364236728473456\n",
      "Accuracy of KNN on validate is 0.7742890995260664\n"
     ]
    }
   ],
   "source": [
    "# get KNN results\n",
    "m.get_knn(train_x, validate_x, train_y, validate_y,5)"
   ]
  },
  {
   "cell_type": "markdown",
   "id": "f3749e1d",
   "metadata": {},
   "source": [
    "* Logistic Regression accuracy is out performing baseline\n",
    "* Overfitting seems to be an issue here"
   ]
  },
  {
   "cell_type": "markdown",
   "id": "500ebdfa",
   "metadata": {},
   "source": [
    "# Best 3 Models"
   ]
  },
  {
   "cell_type": "code",
   "execution_count": 15,
   "id": "2d525315",
   "metadata": {},
   "outputs": [
    {
     "name": "stdout",
     "output_type": "stream",
     "text": [
      "Random Forest\n",
      "Accuracy of Random Forest on train is 0.808229616459233\n",
      "Accuracy of Random Forest on validate is 0.783175355450237\n"
     ]
    }
   ],
   "source": [
    "# get random forest results\n",
    "m.get_forest(train_x, validate_x, train_y, validate_y,5)"
   ]
  },
  {
   "cell_type": "code",
   "execution_count": 16,
   "id": "4f7568d4",
   "metadata": {},
   "outputs": [
    {
     "name": "stdout",
     "output_type": "stream",
     "text": [
      "Random Forest\n",
      "Accuracy of Random Forest on train is 0.7962915925831852\n",
      "Accuracy of Random Forest on validate is 0.7790284360189573\n"
     ]
    }
   ],
   "source": [
    "# get random forest results\n",
    "m.get_forest(train_x, validate_x, train_y, validate_y,3)"
   ]
  },
  {
   "cell_type": "code",
   "execution_count": 17,
   "id": "a2d8add4",
   "metadata": {},
   "outputs": [
    {
     "name": "stdout",
     "output_type": "stream",
     "text": [
      "Decision Tree\n",
      "Accuracy of Decision Tree on train data is 0.7980695961391923\n",
      "Accuracy of Decision Tree on validate data is 0.7890995260663507\n"
     ]
    }
   ],
   "source": [
    "m.get_tree(train_x,validate_x,train_y,validate_y,5)"
   ]
  },
  {
   "cell_type": "markdown",
   "id": "0ed39643",
   "metadata": {},
   "source": [
    "* These models out performed the baseline on both train and validate\n",
    "* The decision tree with a depth of 5 performed comparable to second place but showed signs of overfitting\n",
    "* The random forest with a depth of 5 is approved for production as an mvp."
   ]
  },
  {
   "cell_type": "markdown",
   "id": "90eb9d01",
   "metadata": {},
   "source": [
    "# Conclusions"
   ]
  },
  {
   "cell_type": "markdown",
   "id": "83551545",
   "metadata": {},
   "source": [
    "## Exploration"
   ]
  },
  {
   "cell_type": "markdown",
   "id": "871fffae",
   "metadata": {},
   "source": [
    "* Customers churn occurs 1/4 of observations\n",
    "* Customers who do not use tech support churn 16% more.\n",
    "* Customers who are paying more than the monthly average churn 18% more.\n",
    "* Older Customers have more reasons to churn than younge customers 18% more.\n",
    "* Customerser who have a longer tenure churn 26% less.\n",
    "\n"
   ]
  },
  {
   "cell_type": "markdown",
   "id": "c6749809",
   "metadata": {},
   "source": [
    "## Modeling"
   ]
  },
  {
   "cell_type": "markdown",
   "id": "23bfe680",
   "metadata": {},
   "source": [
    "* KNN model had the worst performance compared to other models, issues overfitting.\n"
   ]
  },
  {
   "cell_type": "markdown",
   "id": "59bb689c",
   "metadata": {},
   "source": [
    "# Recommendations"
   ]
  },
  {
   "cell_type": "markdown",
   "id": "b0cce64e",
   "metadata": {},
   "source": [
    "* Telco could look into pushing tech support to customers   \n",
    "  or futher investigations.\n",
    "* Telco could look into promotions,sales,bundles  \n",
    "  or other ways to give customers who pay more incentives to stay.\n",
    "* Telco could look into finding ways to be senior friendly.\n",
    "* Telco could look into why customers have an incentive to stay for so long.  \n",
    "  (rewards or long time customer benefits)"
   ]
  },
  {
   "cell_type": "markdown",
   "id": "ab5b77df",
   "metadata": {},
   "source": [
    "# Next Steps"
   ]
  },
  {
   "cell_type": "markdown",
   "id": "f27d2295",
   "metadata": {},
   "source": [
    "* Create new features that may have a relationship.  \n",
    "  (Are senior citizen using tech support)\n",
    "  \n",
    "* Further work with model features and settings to create more accurate models.\n"
   ]
  },
  {
   "cell_type": "markdown",
   "id": "a969b97a",
   "metadata": {},
   "source": [
    "# Test Prediction\n"
   ]
  },
  {
   "cell_type": "code",
   "execution_count": 18,
   "id": "985d9bce",
   "metadata": {},
   "outputs": [
    {
     "data": {
      "text/html": [
       "<div>\n",
       "<style scoped>\n",
       "    .dataframe tbody tr th:only-of-type {\n",
       "        vertical-align: middle;\n",
       "    }\n",
       "\n",
       "    .dataframe tbody tr th {\n",
       "        vertical-align: top;\n",
       "    }\n",
       "\n",
       "    .dataframe thead th {\n",
       "        text-align: right;\n",
       "    }\n",
       "</style>\n",
       "<table border=\"1\" class=\"dataframe\">\n",
       "  <thead>\n",
       "    <tr style=\"text-align: right;\">\n",
       "      <th></th>\n",
       "      <th>customer_id</th>\n",
       "      <th>senior_citizen</th>\n",
       "      <th>tenure</th>\n",
       "      <th>monthly_charges</th>\n",
       "      <th>total_charges</th>\n",
       "      <th>gender_Male</th>\n",
       "      <th>partner_Yes</th>\n",
       "      <th>dependents_Yes</th>\n",
       "      <th>phone_service_Yes</th>\n",
       "      <th>multiple_lines_No phone service</th>\n",
       "      <th>...</th>\n",
       "      <th>streaming_movies_Yes</th>\n",
       "      <th>paperless_billing_Yes</th>\n",
       "      <th>churn_Yes</th>\n",
       "      <th>contract_type_One year</th>\n",
       "      <th>contract_type_Two year</th>\n",
       "      <th>internet_service_type_Fiber optic</th>\n",
       "      <th>internet_service_type_None</th>\n",
       "      <th>payment_type_Credit card (automatic)</th>\n",
       "      <th>payment_type_Electronic check</th>\n",
       "      <th>payment_type_Mailed check</th>\n",
       "    </tr>\n",
       "  </thead>\n",
       "  <tbody>\n",
       "    <tr>\n",
       "      <th>0</th>\n",
       "      <td>2824-MYYBN</td>\n",
       "      <td>0</td>\n",
       "      <td>37</td>\n",
       "      <td>95.25</td>\n",
       "      <td>3314.15</td>\n",
       "      <td>0</td>\n",
       "      <td>1</td>\n",
       "      <td>1</td>\n",
       "      <td>1</td>\n",
       "      <td>0</td>\n",
       "      <td>...</td>\n",
       "      <td>1</td>\n",
       "      <td>1</td>\n",
       "      <td>0</td>\n",
       "      <td>0</td>\n",
       "      <td>0</td>\n",
       "      <td>1</td>\n",
       "      <td>0</td>\n",
       "      <td>0</td>\n",
       "      <td>1</td>\n",
       "      <td>0</td>\n",
       "    </tr>\n",
       "    <tr>\n",
       "      <th>1</th>\n",
       "      <td>9397-TZSHA</td>\n",
       "      <td>0</td>\n",
       "      <td>69</td>\n",
       "      <td>24.60</td>\n",
       "      <td>1678.05</td>\n",
       "      <td>0</td>\n",
       "      <td>0</td>\n",
       "      <td>0</td>\n",
       "      <td>1</td>\n",
       "      <td>0</td>\n",
       "      <td>...</td>\n",
       "      <td>0</td>\n",
       "      <td>0</td>\n",
       "      <td>0</td>\n",
       "      <td>0</td>\n",
       "      <td>1</td>\n",
       "      <td>0</td>\n",
       "      <td>1</td>\n",
       "      <td>1</td>\n",
       "      <td>0</td>\n",
       "      <td>0</td>\n",
       "    </tr>\n",
       "    <tr>\n",
       "      <th>2</th>\n",
       "      <td>8853-TZDGH</td>\n",
       "      <td>0</td>\n",
       "      <td>72</td>\n",
       "      <td>111.60</td>\n",
       "      <td>8012.75</td>\n",
       "      <td>0</td>\n",
       "      <td>0</td>\n",
       "      <td>0</td>\n",
       "      <td>1</td>\n",
       "      <td>0</td>\n",
       "      <td>...</td>\n",
       "      <td>1</td>\n",
       "      <td>1</td>\n",
       "      <td>0</td>\n",
       "      <td>0</td>\n",
       "      <td>1</td>\n",
       "      <td>1</td>\n",
       "      <td>0</td>\n",
       "      <td>0</td>\n",
       "      <td>0</td>\n",
       "      <td>0</td>\n",
       "    </tr>\n",
       "    <tr>\n",
       "      <th>3</th>\n",
       "      <td>7129-CAKJW</td>\n",
       "      <td>0</td>\n",
       "      <td>17</td>\n",
       "      <td>80.05</td>\n",
       "      <td>1345.65</td>\n",
       "      <td>0</td>\n",
       "      <td>0</td>\n",
       "      <td>0</td>\n",
       "      <td>1</td>\n",
       "      <td>0</td>\n",
       "      <td>...</td>\n",
       "      <td>0</td>\n",
       "      <td>0</td>\n",
       "      <td>0</td>\n",
       "      <td>0</td>\n",
       "      <td>0</td>\n",
       "      <td>1</td>\n",
       "      <td>0</td>\n",
       "      <td>0</td>\n",
       "      <td>0</td>\n",
       "      <td>0</td>\n",
       "    </tr>\n",
       "    <tr>\n",
       "      <th>4</th>\n",
       "      <td>0112-QWPNC</td>\n",
       "      <td>0</td>\n",
       "      <td>49</td>\n",
       "      <td>84.35</td>\n",
       "      <td>4059.35</td>\n",
       "      <td>1</td>\n",
       "      <td>1</td>\n",
       "      <td>0</td>\n",
       "      <td>1</td>\n",
       "      <td>0</td>\n",
       "      <td>...</td>\n",
       "      <td>1</td>\n",
       "      <td>0</td>\n",
       "      <td>1</td>\n",
       "      <td>1</td>\n",
       "      <td>0</td>\n",
       "      <td>0</td>\n",
       "      <td>0</td>\n",
       "      <td>0</td>\n",
       "      <td>1</td>\n",
       "      <td>0</td>\n",
       "    </tr>\n",
       "  </tbody>\n",
       "</table>\n",
       "<p>5 rows × 32 columns</p>\n",
       "</div>"
      ],
      "text/plain": [
       "  customer_id  senior_citizen  tenure  monthly_charges  total_charges  \\\n",
       "0  2824-MYYBN               0      37            95.25        3314.15   \n",
       "1  9397-TZSHA               0      69            24.60        1678.05   \n",
       "2  8853-TZDGH               0      72           111.60        8012.75   \n",
       "3  7129-CAKJW               0      17            80.05        1345.65   \n",
       "4  0112-QWPNC               0      49            84.35        4059.35   \n",
       "\n",
       "   gender_Male  partner_Yes  dependents_Yes  phone_service_Yes  \\\n",
       "0            0            1               1                  1   \n",
       "1            0            0               0                  1   \n",
       "2            0            0               0                  1   \n",
       "3            0            0               0                  1   \n",
       "4            1            1               0                  1   \n",
       "\n",
       "   multiple_lines_No phone service  ...  streaming_movies_Yes  \\\n",
       "0                                0  ...                     1   \n",
       "1                                0  ...                     0   \n",
       "2                                0  ...                     1   \n",
       "3                                0  ...                     0   \n",
       "4                                0  ...                     1   \n",
       "\n",
       "   paperless_billing_Yes  churn_Yes  contract_type_One year  \\\n",
       "0                      1          0                       0   \n",
       "1                      0          0                       0   \n",
       "2                      1          0                       0   \n",
       "3                      0          0                       0   \n",
       "4                      0          1                       1   \n",
       "\n",
       "   contract_type_Two year  internet_service_type_Fiber optic  \\\n",
       "0                       0                                  1   \n",
       "1                       1                                  0   \n",
       "2                       1                                  1   \n",
       "3                       0                                  1   \n",
       "4                       0                                  0   \n",
       "\n",
       "   internet_service_type_None  payment_type_Credit card (automatic)  \\\n",
       "0                           0                                     0   \n",
       "1                           1                                     1   \n",
       "2                           0                                     0   \n",
       "3                           0                                     0   \n",
       "4                           0                                     0   \n",
       "\n",
       "   payment_type_Electronic check  payment_type_Mailed check  \n",
       "0                              1                          0  \n",
       "1                              0                          0  \n",
       "2                              0                          0  \n",
       "3                              0                          0  \n",
       "4                              1                          0  \n",
       "\n",
       "[5 rows x 32 columns]"
      ]
     },
     "execution_count": 18,
     "metadata": {},
     "output_type": "execute_result"
    }
   ],
   "source": [
    "train.head()"
   ]
  },
  {
   "cell_type": "code",
   "execution_count": 19,
   "id": "572f85eb",
   "metadata": {},
   "outputs": [
    {
     "name": "stdout",
     "output_type": "stream",
     "text": [
      "Random Forest\n",
      "Accuracy of Random Forest on train is 0.808229616459233\n",
      "Accuracy of Random Forest on validate is 0.783175355450237\n"
     ]
    }
   ],
   "source": [
    "# best model\n",
    "# get random forest results\n",
    "m.get_forest(train_x, validate_x, train_y, validate_y,5)"
   ]
  },
  {
   "cell_type": "code",
   "execution_count": null,
   "id": "c31befec",
   "metadata": {},
   "outputs": [],
   "source": [
    "# A Predictions (.csv)\n",
    "\n",
    "# 3 columns: customer_id, probability of churn, and prediction of churn. (1=churn, 0=not_churn).\n",
    "\n",
    "# These predictions should be from your best performing model ran on X_test.\n",
    "\n",
    "# Note that the order of the y_pred and y_proba are numpy arrays coming from running the model on X_test. The order of those values will match the order of the rows in X_test, so you can obtain the customer_id from X_test and concatenate these values together into a dataframe to write to CSV.\n",
    "\n",
    "# 1+ non-final Notebooks (.ipynb) created while working on the project, containing exploration & modeling work (and other work)"
   ]
  },
  {
   "cell_type": "code",
   "execution_count": 20,
   "id": "c4603bcd",
   "metadata": {
    "scrolled": true
   },
   "outputs": [
    {
     "name": "stdout",
     "output_type": "stream",
     "text": [
      "feature importance\n",
      "\n",
      "\n",
      "[0.05970289 0.53675137 0.33394075 0.06960499]\n"
     ]
    }
   ],
   "source": [
    "prob_pred = m.get_best_model(train_x, validate_x, train_y, validate_y,5,test_x)"
   ]
  },
  {
   "cell_type": "code",
   "execution_count": null,
   "id": "25aea140",
   "metadata": {},
   "outputs": [],
   "source": []
  },
  {
   "cell_type": "code",
   "execution_count": 21,
   "id": "84b18cac",
   "metadata": {},
   "outputs": [
    {
     "data": {
      "text/html": [
       "<div>\n",
       "<style scoped>\n",
       "    .dataframe tbody tr th:only-of-type {\n",
       "        vertical-align: middle;\n",
       "    }\n",
       "\n",
       "    .dataframe tbody tr th {\n",
       "        vertical-align: top;\n",
       "    }\n",
       "\n",
       "    .dataframe thead th {\n",
       "        text-align: right;\n",
       "    }\n",
       "</style>\n",
       "<table border=\"1\" class=\"dataframe\">\n",
       "  <thead>\n",
       "    <tr style=\"text-align: right;\">\n",
       "      <th></th>\n",
       "      <th>Probability</th>\n",
       "      <th>Predictions</th>\n",
       "    </tr>\n",
       "  </thead>\n",
       "  <tbody>\n",
       "    <tr>\n",
       "      <th>0</th>\n",
       "      <td>0.893859</td>\n",
       "      <td>0.106141</td>\n",
       "    </tr>\n",
       "  </tbody>\n",
       "</table>\n",
       "</div>"
      ],
      "text/plain": [
       "   Probability  Predictions\n",
       "0     0.893859     0.106141"
      ]
     },
     "execution_count": 21,
     "metadata": {},
     "output_type": "execute_result"
    }
   ],
   "source": [
    "prob_pred.head(1)"
   ]
  },
  {
   "cell_type": "code",
   "execution_count": 22,
   "id": "b0732f19",
   "metadata": {},
   "outputs": [
    {
     "data": {
      "text/plain": [
       "(1407, 2)"
      ]
     },
     "execution_count": 22,
     "metadata": {},
     "output_type": "execute_result"
    }
   ],
   "source": [
    "prob_pred.shape"
   ]
  },
  {
   "cell_type": "code",
   "execution_count": 23,
   "id": "8210d196",
   "metadata": {},
   "outputs": [],
   "source": [
    "df = m.get_pred_df(prob_pred,test)"
   ]
  },
  {
   "cell_type": "code",
   "execution_count": 27,
   "id": "fb84a959",
   "metadata": {},
   "outputs": [
    {
     "data": {
      "text/html": [
       "<div>\n",
       "<style scoped>\n",
       "    .dataframe tbody tr th:only-of-type {\n",
       "        vertical-align: middle;\n",
       "    }\n",
       "\n",
       "    .dataframe tbody tr th {\n",
       "        vertical-align: top;\n",
       "    }\n",
       "\n",
       "    .dataframe thead th {\n",
       "        text-align: right;\n",
       "    }\n",
       "</style>\n",
       "<table border=\"1\" class=\"dataframe\">\n",
       "  <thead>\n",
       "    <tr style=\"text-align: right;\">\n",
       "      <th></th>\n",
       "      <th>Probability of Churn</th>\n",
       "      <th>Predictions</th>\n",
       "      <th>Customer ID</th>\n",
       "    </tr>\n",
       "  </thead>\n",
       "  <tbody>\n",
       "    <tr>\n",
       "      <th>0</th>\n",
       "      <td>0.106141</td>\n",
       "      <td>0</td>\n",
       "      <td>1429-UYJSV</td>\n",
       "    </tr>\n",
       "    <tr>\n",
       "      <th>1</th>\n",
       "      <td>0.513856</td>\n",
       "      <td>1</td>\n",
       "      <td>0958-YHXGP</td>\n",
       "    </tr>\n",
       "    <tr>\n",
       "      <th>2</th>\n",
       "      <td>0.020112</td>\n",
       "      <td>0</td>\n",
       "      <td>6134-KWTBV</td>\n",
       "    </tr>\n",
       "    <tr>\n",
       "      <th>3</th>\n",
       "      <td>0.261896</td>\n",
       "      <td>0</td>\n",
       "      <td>5016-ETTFF</td>\n",
       "    </tr>\n",
       "    <tr>\n",
       "      <th>4</th>\n",
       "      <td>0.269105</td>\n",
       "      <td>0</td>\n",
       "      <td>6483-OATDN</td>\n",
       "    </tr>\n",
       "    <tr>\n",
       "      <th>...</th>\n",
       "      <td>...</td>\n",
       "      <td>...</td>\n",
       "      <td>...</td>\n",
       "    </tr>\n",
       "    <tr>\n",
       "      <th>1402</th>\n",
       "      <td>0.117419</td>\n",
       "      <td>0</td>\n",
       "      <td>6893-ODYYE</td>\n",
       "    </tr>\n",
       "    <tr>\n",
       "      <th>1403</th>\n",
       "      <td>0.197986</td>\n",
       "      <td>0</td>\n",
       "      <td>7356-IWLFW</td>\n",
       "    </tr>\n",
       "    <tr>\n",
       "      <th>1404</th>\n",
       "      <td>0.476817</td>\n",
       "      <td>0</td>\n",
       "      <td>3961-SXAXY</td>\n",
       "    </tr>\n",
       "    <tr>\n",
       "      <th>1405</th>\n",
       "      <td>0.023073</td>\n",
       "      <td>0</td>\n",
       "      <td>6349-JDHQP</td>\n",
       "    </tr>\n",
       "    <tr>\n",
       "      <th>1406</th>\n",
       "      <td>0.230641</td>\n",
       "      <td>0</td>\n",
       "      <td>3005-TYFRD</td>\n",
       "    </tr>\n",
       "  </tbody>\n",
       "</table>\n",
       "<p>1407 rows × 3 columns</p>\n",
       "</div>"
      ],
      "text/plain": [
       "      Probability of Churn  Predictions Customer ID\n",
       "0                 0.106141            0  1429-UYJSV\n",
       "1                 0.513856            1  0958-YHXGP\n",
       "2                 0.020112            0  6134-KWTBV\n",
       "3                 0.261896            0  5016-ETTFF\n",
       "4                 0.269105            0  6483-OATDN\n",
       "...                    ...          ...         ...\n",
       "1402              0.117419            0  6893-ODYYE\n",
       "1403              0.197986            0  7356-IWLFW\n",
       "1404              0.476817            0  3961-SXAXY\n",
       "1405              0.023073            0  6349-JDHQP\n",
       "1406              0.230641            0  3005-TYFRD\n",
       "\n",
       "[1407 rows x 3 columns]"
      ]
     },
     "execution_count": 27,
     "metadata": {},
     "output_type": "execute_result"
    }
   ],
   "source": [
    "df"
   ]
  },
  {
   "cell_type": "code",
   "execution_count": null,
   "id": "6b98e801",
   "metadata": {},
   "outputs": [],
   "source": []
  },
  {
   "cell_type": "code",
   "execution_count": 34,
   "id": "f8b7bc91",
   "metadata": {},
   "outputs": [
    {
     "data": {
      "image/png": "[encoded data removed]",
      "text/plain": [
       "<Figure size 640x480 with 1 Axes>"
      ]
     },
     "metadata": {},
     "output_type": "display_data"
    }
   ],
   "source": [
    "# create data\n",
    "labels = ['Baseline']\n",
    "\n",
    "y1 = [27]\n",
    "y2 = [73]\n",
    "\n",
    "# plot bars in stack manner\n",
    "plt.bar(labels, y1, color='skyblue',bottom= y2)\n",
    "                              \n",
    "plt.bar(labels, y2, color='gray',hatch='//',)\n",
    "\n",
    "\n",
    "\n",
    "plt.ylabel(\"Churn % Rate\")\n",
    "plt.legend([\"Churned\", \"Non-Churned\"])\n",
    "\n",
    "plt.title('What we started with')\n",
    "\n",
    "plt.savefig('baseline.png',bbox_inches='tight')\n",
    "\n",
    "plt.show()"
   ]
  },
  {
   "cell_type": "code",
   "execution_count": 35,
   "id": "87728905",
   "metadata": {},
   "outputs": [
    {
     "data": {
      "image/png": "[encoded data removed]",
      "text/plain": [
       "<Figure size 640x480 with 1 Axes>"
      ]
     },
     "metadata": {},
     "output_type": "display_data"
    }
   ],
   "source": [
    "# create data\n",
    "labels = ['Model']\n",
    "\n",
    "y1 = [20]\n",
    "y2 = [80]\n",
    "\n",
    "# plot bars in stack manner\n",
    "plt.bar(labels, y1, color='skyblue',bottom= y2)\n",
    "                              \n",
    "plt.bar(labels, y2, color='gray',hatch='//',)\n",
    "\n",
    "\n",
    "\n",
    "plt.ylabel(\"Churn % Rate\")\n",
    "plt.legend([\"Churned\", \"Non-Churned\"])\n",
    "\n",
    "plt.title('What we can go')\n",
    "\n",
    "plt.savefig('model.png',bbox_inches='tight')\n",
    "\n",
    "plt.show()"
   ]
  },
  {
   "cell_type": "code",
   "execution_count": null,
   "id": "411e56b5",
   "metadata": {},
   "outputs": [],
   "source": [
    "t"
   ]
  }
 ],
 "metadata": {
  "kernelspec": {
   "display_name": "Python 3 (ipykernel)",
   "language": "python",
   "name": "python3"
  },
  "language_info": {
   "codemirror_mode": {
    "name": "ipython",
    "version": 3
   },
   "file_extension": ".py",
   "mimetype": "text/x-python",
   "name": "python",
   "nbconvert_exporter": "python",
   "pygments_lexer": "ipython3",
   "version": "3.9.13"
  },
  "toc": {
   "base_numbering": 1,
   "nav_menu": {},
   "number_sections": true,
   "sideBar": true,
   "skip_h1_title": false,
   "title_cell": "Table of Contents",
   "title_sidebar": "Contents",
   "toc_cell": false,
   "toc_position": {},
   "toc_section_display": true,
   "toc_window_display": false
  }
 },
 "nbformat": 4,
 "nbformat_minor": 5
}
